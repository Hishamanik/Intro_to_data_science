{
    "cells": [
        {
            "cell_type": "code",
            "execution_count": 18,
            "source": [
                "# Lets start by importing our pandas library\r\n",
                "import pandas as pd"
            ],
            "outputs": [],
            "metadata": {}
        },
        {
            "cell_type": "code",
            "execution_count": 19,
            "source": [
                "# I'm going to jump in with an example. Lets create three school records for students and their \r\n",
                "# class grades. I'll create each as a series which has a student name, the class name, and the score. \r\n",
                "record1 = pd.Series({'Name': 'Alice',\r\n",
                "                        'Class': 'Physics',\r\n",
                "                        'Score': 85})\r\n",
                "record2 = pd.Series({'Name': 'Jack',\r\n",
                "                        'Class': 'Chemistry',\r\n",
                "                        'Score': 82})\r\n",
                "record3 = pd.Series({'Name': 'Helen',\r\n",
                "                        'Class': 'Biology',\r\n",
                "                        'Score': 90})"
            ],
            "outputs": [],
            "metadata": {}
        },
        {
            "cell_type": "code",
            "execution_count": 20,
            "source": [
                "# Like a Series, the DataFrame object is index. Here I'll use a group of series, where each series \r\n",
                "# represents a row of data. Just like the Series function, we can pass in our individual items\r\n",
                "# in an array, and we can pass in our index values as a second arguments\r\n",
                "df = pd.DataFrame([record1, record2, record3],\r\n",
                "                  index=['school1', 'school2', 'school1'])\r\n",
                "\r\n",
                "# And just like the Series we can use the head() function to see the first several rows of the\r\n",
                "# dataframe, including indices from both axes, and we can use this to verify the columns and the rows\r\n",
                "df.head()"
            ],
            "outputs": [
                {
                    "output_type": "execute_result",
                    "data": {
                        "text/plain": [
                            "          Name      Class  Score\n",
                            "school1  Alice    Physics     85\n",
                            "school2   Jack  Chemistry     82\n",
                            "school1  Helen    Biology     90"
                        ],
                        "text/html": [
                            "<div>\n",
                            "<style scoped>\n",
                            "    .dataframe tbody tr th:only-of-type {\n",
                            "        vertical-align: middle;\n",
                            "    }\n",
                            "\n",
                            "    .dataframe tbody tr th {\n",
                            "        vertical-align: top;\n",
                            "    }\n",
                            "\n",
                            "    .dataframe thead th {\n",
                            "        text-align: right;\n",
                            "    }\n",
                            "</style>\n",
                            "<table border=\"1\" class=\"dataframe\">\n",
                            "  <thead>\n",
                            "    <tr style=\"text-align: right;\">\n",
                            "      <th></th>\n",
                            "      <th>Name</th>\n",
                            "      <th>Class</th>\n",
                            "      <th>Score</th>\n",
                            "    </tr>\n",
                            "  </thead>\n",
                            "  <tbody>\n",
                            "    <tr>\n",
                            "      <th>school1</th>\n",
                            "      <td>Alice</td>\n",
                            "      <td>Physics</td>\n",
                            "      <td>85</td>\n",
                            "    </tr>\n",
                            "    <tr>\n",
                            "      <th>school2</th>\n",
                            "      <td>Jack</td>\n",
                            "      <td>Chemistry</td>\n",
                            "      <td>82</td>\n",
                            "    </tr>\n",
                            "    <tr>\n",
                            "      <th>school1</th>\n",
                            "      <td>Helen</td>\n",
                            "      <td>Biology</td>\n",
                            "      <td>90</td>\n",
                            "    </tr>\n",
                            "  </tbody>\n",
                            "</table>\n",
                            "</div>"
                        ]
                    },
                    "metadata": {},
                    "execution_count": 20
                }
            ],
            "metadata": {}
        },
        {
            "cell_type": "markdown",
            "source": [
                "# You'll notice here that Jupyter creates a nice bit of HTML to render the results of the\r\n",
                "# dataframe. So we have the index, which is the leftmost column and is the school name, and\r\n",
                "# then we have the rows of data, where each row has a column header which was given in our initial\r\n",
                "# record dictionaries"
            ],
            "metadata": {}
        },
        {
            "cell_type": "code",
            "execution_count": 21,
            "source": [
                "# An alternative method is that you could use a list of dictionaries, where each dictionary \r\n",
                "# represents a row of data.\r\n",
                "\r\n",
                "students = [{'Name': 'Alice',\r\n",
                "              'Class': 'Physics',\r\n",
                "              'Score': 85},\r\n",
                "            {'Name': 'Jack',\r\n",
                "             'Class': 'Chemistry',\r\n",
                "             'Score': 82},\r\n",
                "            {'Name': 'Helen',\r\n",
                "             'Class': 'Biology',\r\n",
                "             'Score': 90}]\r\n",
                "\r\n",
                "# Then we pass this list of dictionaries into the DataFrame function\r\n",
                "df = pd.DataFrame(students, index=['school1', 'school2', 'school1'])\r\n",
                "# And lets print the head again\r\n",
                "df.head()"
            ],
            "outputs": [
                {
                    "output_type": "execute_result",
                    "data": {
                        "text/plain": [
                            "          Name      Class  Score\n",
                            "school1  Alice    Physics     85\n",
                            "school2   Jack  Chemistry     82\n",
                            "school1  Helen    Biology     90"
                        ],
                        "text/html": [
                            "<div>\n",
                            "<style scoped>\n",
                            "    .dataframe tbody tr th:only-of-type {\n",
                            "        vertical-align: middle;\n",
                            "    }\n",
                            "\n",
                            "    .dataframe tbody tr th {\n",
                            "        vertical-align: top;\n",
                            "    }\n",
                            "\n",
                            "    .dataframe thead th {\n",
                            "        text-align: right;\n",
                            "    }\n",
                            "</style>\n",
                            "<table border=\"1\" class=\"dataframe\">\n",
                            "  <thead>\n",
                            "    <tr style=\"text-align: right;\">\n",
                            "      <th></th>\n",
                            "      <th>Name</th>\n",
                            "      <th>Class</th>\n",
                            "      <th>Score</th>\n",
                            "    </tr>\n",
                            "  </thead>\n",
                            "  <tbody>\n",
                            "    <tr>\n",
                            "      <th>school1</th>\n",
                            "      <td>Alice</td>\n",
                            "      <td>Physics</td>\n",
                            "      <td>85</td>\n",
                            "    </tr>\n",
                            "    <tr>\n",
                            "      <th>school2</th>\n",
                            "      <td>Jack</td>\n",
                            "      <td>Chemistry</td>\n",
                            "      <td>82</td>\n",
                            "    </tr>\n",
                            "    <tr>\n",
                            "      <th>school1</th>\n",
                            "      <td>Helen</td>\n",
                            "      <td>Biology</td>\n",
                            "      <td>90</td>\n",
                            "    </tr>\n",
                            "  </tbody>\n",
                            "</table>\n",
                            "</div>"
                        ]
                    },
                    "metadata": {},
                    "execution_count": 21
                }
            ],
            "metadata": {}
        },
        {
            "cell_type": "code",
            "execution_count": 22,
            "source": [
                "# Similar to the series, we can extract data using the .iloc and .loc attributes. Because the \r\n",
                "# DataFrame is two-dimensional, passing a single value to the loc indexing operator will return \r\n",
                "# the series if there's only one row to return.\r\n",
                "\r\n",
                "# For instance, if we wanted to select data associated with school2, we would just query the \r\n",
                "# .loc attribute with one parameter.\r\n",
                "df.loc['school2']"
            ],
            "outputs": [
                {
                    "output_type": "execute_result",
                    "data": {
                        "text/plain": [
                            "Name          Jack\n",
                            "Class    Chemistry\n",
                            "Score           82\n",
                            "Name: school2, dtype: object"
                        ]
                    },
                    "metadata": {},
                    "execution_count": 22
                }
            ],
            "metadata": {}
        },
        {
            "cell_type": "code",
            "execution_count": 7,
            "source": [
                "# You'll note that the name of the series is returned as the index value, while the column \r\n",
                "# name is included in the output.\r\n",
                "\r\n",
                "# We can check the data type of the return using the python type function.\r\n",
                "type(df.loc['school2'])"
            ],
            "outputs": [
                {
                    "output_type": "execute_result",
                    "data": {
                        "text/plain": [
                            "pandas.core.series.Series"
                        ]
                    },
                    "metadata": {},
                    "execution_count": 7
                }
            ],
            "metadata": {}
        },
        {
            "cell_type": "code",
            "execution_count": 23,
            "source": [
                "# It's important to remember that the indices and column names along either axes horizontal or \r\n",
                "# vertical, could be non-unique. In this example, we see two records for school1 as different rows.\r\n",
                "# If we use a single value with the DataFrame lock attribute, multiple rows of the DataFrame will \r\n",
                "# return, not as a new series, but as a new DataFrame.\r\n",
                "\r\n",
                "# Lets query for school1 records\r\n",
                "df.loc['school1']"
            ],
            "outputs": [
                {
                    "output_type": "execute_result",
                    "data": {
                        "text/plain": [
                            "          Name    Class  Score\n",
                            "school1  Alice  Physics     85\n",
                            "school1  Helen  Biology     90"
                        ],
                        "text/html": [
                            "<div>\n",
                            "<style scoped>\n",
                            "    .dataframe tbody tr th:only-of-type {\n",
                            "        vertical-align: middle;\n",
                            "    }\n",
                            "\n",
                            "    .dataframe tbody tr th {\n",
                            "        vertical-align: top;\n",
                            "    }\n",
                            "\n",
                            "    .dataframe thead th {\n",
                            "        text-align: right;\n",
                            "    }\n",
                            "</style>\n",
                            "<table border=\"1\" class=\"dataframe\">\n",
                            "  <thead>\n",
                            "    <tr style=\"text-align: right;\">\n",
                            "      <th></th>\n",
                            "      <th>Name</th>\n",
                            "      <th>Class</th>\n",
                            "      <th>Score</th>\n",
                            "    </tr>\n",
                            "  </thead>\n",
                            "  <tbody>\n",
                            "    <tr>\n",
                            "      <th>school1</th>\n",
                            "      <td>Alice</td>\n",
                            "      <td>Physics</td>\n",
                            "      <td>85</td>\n",
                            "    </tr>\n",
                            "    <tr>\n",
                            "      <th>school1</th>\n",
                            "      <td>Helen</td>\n",
                            "      <td>Biology</td>\n",
                            "      <td>90</td>\n",
                            "    </tr>\n",
                            "  </tbody>\n",
                            "</table>\n",
                            "</div>"
                        ]
                    },
                    "metadata": {},
                    "execution_count": 23
                }
            ],
            "metadata": {}
        },
        {
            "cell_type": "code",
            "execution_count": 24,
            "source": [
                "# One of the powers of the Panda's DataFrame is that you can quickly select data based on multiple axes.\r\n",
                "# For instance, if you wanted to just list the student names for school1, you would supply two \r\n",
                "# parameters to .loc, one being the row index and the other being the column name.\r\n",
                "\r\n",
                "# For instance, if we are only interested in school1's student names\r\n",
                "df.loc['school1', 'Name']"
            ],
            "outputs": [
                {
                    "output_type": "execute_result",
                    "data": {
                        "text/plain": [
                            "school1    Alice\n",
                            "school1    Helen\n",
                            "Name: Name, dtype: object"
                        ]
                    },
                    "metadata": {},
                    "execution_count": 24
                }
            ],
            "metadata": {}
        },
        {
            "cell_type": "code",
            "execution_count": 25,
            "source": [
                "# Remember, just like the Series, the pandas developers have implemented this using the indexing\r\n",
                "# operator and not as parameters to a function.\r\n",
                "\r\n",
                "# What would we do if we just wanted to select a single column though? Well, there are a few\r\n",
                "# mechanisms. Firstly, we could transpose the matrix. This pivots all of the rows into columns\r\n",
                "# and all of the columns into rows, and is done with the T attribute\r\n",
                "df.T"
            ],
            "outputs": [
                {
                    "output_type": "execute_result",
                    "data": {
                        "text/plain": [
                            "       school1    school2  school1\n",
                            "Name     Alice       Jack    Helen\n",
                            "Class  Physics  Chemistry  Biology\n",
                            "Score       85         82       90"
                        ],
                        "text/html": [
                            "<div>\n",
                            "<style scoped>\n",
                            "    .dataframe tbody tr th:only-of-type {\n",
                            "        vertical-align: middle;\n",
                            "    }\n",
                            "\n",
                            "    .dataframe tbody tr th {\n",
                            "        vertical-align: top;\n",
                            "    }\n",
                            "\n",
                            "    .dataframe thead th {\n",
                            "        text-align: right;\n",
                            "    }\n",
                            "</style>\n",
                            "<table border=\"1\" class=\"dataframe\">\n",
                            "  <thead>\n",
                            "    <tr style=\"text-align: right;\">\n",
                            "      <th></th>\n",
                            "      <th>school1</th>\n",
                            "      <th>school2</th>\n",
                            "      <th>school1</th>\n",
                            "    </tr>\n",
                            "  </thead>\n",
                            "  <tbody>\n",
                            "    <tr>\n",
                            "      <th>Name</th>\n",
                            "      <td>Alice</td>\n",
                            "      <td>Jack</td>\n",
                            "      <td>Helen</td>\n",
                            "    </tr>\n",
                            "    <tr>\n",
                            "      <th>Class</th>\n",
                            "      <td>Physics</td>\n",
                            "      <td>Chemistry</td>\n",
                            "      <td>Biology</td>\n",
                            "    </tr>\n",
                            "    <tr>\n",
                            "      <th>Score</th>\n",
                            "      <td>85</td>\n",
                            "      <td>82</td>\n",
                            "      <td>90</td>\n",
                            "    </tr>\n",
                            "  </tbody>\n",
                            "</table>\n",
                            "</div>"
                        ]
                    },
                    "metadata": {},
                    "execution_count": 25
                }
            ],
            "metadata": {}
        },
        {
            "cell_type": "code",
            "execution_count": null,
            "source": [
                "# Then we can call .loc on the transpose to get the student names only\r\n",
                "df.T.loc['Name']"
            ],
            "outputs": [],
            "metadata": {}
        },
        {
            "cell_type": "code",
            "execution_count": null,
            "source": [
                "# However, since iloc and loc are used for row selection, Panda reserves the indexing operator \r\n",
                "# directly on the DataFrame for column selection. In a Panda's DataFrame, columns always have a name. \r\n",
                "# So this selection is always label based, and is not as confusing as it was when using the square \r\n",
                "# bracket operator on the series objects. For those familiar with relational databases, this operator \r\n",
                "# is analogous to column projection.\r\n",
                "df['Name']"
            ],
            "outputs": [],
            "metadata": {}
        },
        {
            "cell_type": "code",
            "execution_count": null,
            "source": [
                "# In practice, this works really well since you're often trying to add or drop new columns. However,\r\n",
                "# this also means that you get a key error if you try and use .loc with a column name\r\n",
                "df.loc['Name']"
            ],
            "outputs": [],
            "metadata": {}
        },
        {
            "cell_type": "code",
            "execution_count": null,
            "source": [
                "# Note too that the result of a single column projection is a Series object\r\n",
                "type(df['Name'])"
            ],
            "outputs": [],
            "metadata": {}
        },
        {
            "cell_type": "code",
            "execution_count": null,
            "source": [
                "# Since the result of using the indexing operator is either a DataFrame or Series, you can chain \r\n",
                "# operations together. For instance, we can select all of the rows which related to school1 using\r\n",
                "# .loc, then project the name column from just those rows\r\n",
                "df.loc['school1']['Name']"
            ],
            "outputs": [],
            "metadata": {}
        },
        {
            "cell_type": "code",
            "execution_count": null,
            "source": [
                "# If you get confused, use type to check the responses from resulting operations\r\n",
                "print(type(df.loc['school1'])) #should be a DataFrame\r\n",
                "print(type(df.loc['school1']['Name'])) #should be a Series"
            ],
            "outputs": [],
            "metadata": {}
        },
        {
            "cell_type": "markdown",
            "source": [
                "# Chaining, by indexing on the return type of another index, can come with some costs and is\r\n",
                "# best avoided if you can use another approach. In particular, chaining tends to cause Pandas \r\n",
                "# to return a copy of the DataFrame instead of a view on the DataFrame. \r\n",
                "# For selecting data, this is not a big deal, though it might be slower than necessary. \r\n",
                "# If you are changing data though this is an important distinction and can be a source of error."
            ],
            "metadata": {}
        },
        {
            "cell_type": "code",
            "execution_count": null,
            "source": [
                "# Here's another approach. As we saw, .loc does row selection, and it can take two parameters, \r\n",
                "# the row index and the list of column names. The .loc attribute also supports slicing.\r\n",
                "\r\n",
                "# If we wanted to select all rows, we can use a colon to indicate a full slice from beginning to end. \r\n",
                "# This is just like slicing characters in a list in python. Then we can add the column name as the \r\n",
                "# second parameter as a string. If we wanted to include multiple columns, we could do so in a list. \r\n",
                "# and Pandas will bring back only the columns we have asked for.\r\n",
                "\r\n",
                "# Here's an example, where we ask for all the names and scores for all schools using the .loc operator.\r\n",
                "df.loc[:,['Name', 'Score']]"
            ],
            "outputs": [],
            "metadata": {}
        },
        {
            "cell_type": "markdown",
            "source": [
                "# Take a look at that again. The colon means that we want to get all of the rows, and the list\r\n",
                "# in the second argument position is the list of columns we want to get back"
            ],
            "metadata": {}
        },
        {
            "cell_type": "markdown",
            "source": [
                "# That's selecting and projecting data from a DataFrame based on row and column labels. The key \r\n",
                "# concepts to remember are that the rows and columns are really just for our benefit. Underneath \r\n",
                "# this is just a two axes labeled array, and transposing the columns is easy. Also, consider the \r\n",
                "# issue of chaining carefully, and try to avoid it, as it can cause unpredictable results, where \r\n",
                "# your intent was to obtain a view of the data, but instead Pandas returns to you a copy. "
            ],
            "metadata": {}
        },
        {
            "cell_type": "code",
            "execution_count": null,
            "source": [
                "# Before we leave the discussion of accessing data in DataFrames, lets talk about dropping data.\r\n",
                "# It's easy to delete data in Series and DataFrames, and we can use the drop function to do so. \r\n",
                "# This function takes a single parameter, which is the index or row label, to drop. This is another \r\n",
                "# tricky place for new users -- the drop function doesn't change the DataFrame by default! Instead,\r\n",
                "# the drop function returns to you a copy of the DataFrame with the given rows removed.\r\n",
                "\r\n",
                "df.drop('school1')"
            ],
            "outputs": [],
            "metadata": {}
        },
        {
            "cell_type": "code",
            "execution_count": null,
            "source": [
                "# But if we look at our original DataFrame we see the data is still intact.\r\n",
                "df"
            ],
            "outputs": [],
            "metadata": {}
        },
        {
            "cell_type": "code",
            "execution_count": null,
            "source": [
                "# Drop has two interesting optional parameters. The first is called inplace, and if it's \r\n",
                "# set to true, the DataFrame will be updated in place, instead of a copy being returned. \r\n",
                "# The second parameter is the axes, which should be dropped. By default, this value is 0, \r\n",
                "# indicating the row axis. But you could change it to 1 if you want to drop a column.\r\n",
                "\r\n",
                "# For example, lets make a copy of a DataFrame using .copy()\r\n",
                "copy_df = df.copy()\r\n",
                "# Now lets drop the name column in this copy\r\n",
                "copy_df.drop(\"Name\", inplace=True, axis=1)\r\n",
                "copy_df"
            ],
            "outputs": [],
            "metadata": {}
        },
        {
            "cell_type": "code",
            "execution_count": null,
            "source": [
                "# There is a second way to drop a column, and that's directly through the use of the indexing \r\n",
                "# operator, using the del keyword. This way of dropping data, however, takes immediate effect \r\n",
                "# on the DataFrame and does not return a view.\r\n",
                "del copy_df['Class']\r\n",
                "copy_df"
            ],
            "outputs": [],
            "metadata": {}
        },
        {
            "cell_type": "code",
            "execution_count": null,
            "source": [
                "# Finally, adding a new column to the DataFrame is as easy as assigning it to some value using\r\n",
                "# the indexing operator. For instance, if we wanted to add a class ranking column with default \r\n",
                "# value of None, we could do so by using the assignment operator after the square brackets.\r\n",
                "# This broadcasts the default value to the new column immediately.\r\n",
                "\r\n",
                "df['ClassRanking'] = None\r\n",
                "df"
            ],
            "outputs": [],
            "metadata": {}
        }
    ],
    "metadata": {
        "orig_nbformat": 4,
        "language_info": {
            "name": "python",
            "version": "3.8.8",
            "mimetype": "text/x-python",
            "codemirror_mode": {
                "name": "ipython",
                "version": 3
            },
            "pygments_lexer": "ipython3",
            "nbconvert_exporter": "python",
            "file_extension": ".py"
        },
        "kernelspec": {
            "name": "python3",
            "display_name": "Python 3.8.8 64-bit ('base': conda)"
        },
        "interpreter": {
            "hash": "a6c8cccf23fc189a51b8b2ae4ca3b98de763e12cce4f9033fe8d82721c91cecc"
        }
    },
    "nbformat": 4,
    "nbformat_minor": 2
}